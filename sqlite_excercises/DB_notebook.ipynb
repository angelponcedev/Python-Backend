{
 "cells": [
  {
   "cell_type": "markdown",
   "metadata": {},
   "source": [
    "# SQLite 3 with python"
   ]
  },
  {
   "cell_type": "code",
   "execution_count": 6,
   "metadata": {},
   "outputs": [],
   "source": [
    "# import the sqlite3 library\n",
    "import sqlite3"
   ]
  },
  {
   "cell_type": "code",
   "execution_count": 7,
   "metadata": {},
   "outputs": [],
   "source": [
    "# you can have a temporary DB that lives as long aas the program is running with\n",
    "# connection = sqlite3.connect(':memory:')\n",
    "\n",
    "# otherwise you can connect to a file DB with this command\n",
    "connection = sqlite3.connect('test.db')"
   ]
  },
  {
   "cell_type": "code",
   "execution_count": 8,
   "metadata": {},
   "outputs": [],
   "source": [
    "# creating a cursor to manipulate the DB with our code in python\n",
    "cursor = connection.cursor()"
   ]
  },
  {
   "cell_type": "code",
   "execution_count": 5,
   "metadata": {},
   "outputs": [],
   "source": [
    "# creating a table into our DB\n",
    "cursor.execute(\"\"\" CREATE TABLE customers (\n",
    "                    firstName TEXT NOT NULL,\n",
    "                    lastName TEXT NOT NULL,\n",
    "                    email TEXT NOT NULL,\n",
    "                    password TEXT NOT NULL\n",
    "               ) \"\"\")\n",
    "\n",
    "# commit our command\n",
    "connection.commit()\n",
    "\n",
    "# closing the connection\n",
    "connection.close()"
   ]
  },
  {
   "cell_type": "markdown",
   "metadata": {},
   "source": [
    "# Quick datatypes reminder: Sqlite has 5 datatypes\n",
    "* NULL\n",
    "* TEXT \n",
    "* REAL \n",
    "* INTEGER \n",
    "* BLOB: anything goes in here"
   ]
  },
  {
   "cell_type": "code",
   "execution_count": null,
   "metadata": {},
   "outputs": [],
   "source": [
    "# Inserting some data into the customers table\n",
    "cursor.execute(\"\"\"\n",
    "                INSERT INTO customers(firstName,lastName,email,password)\n",
    "                VALUES ('Angel','Ponce','Angel@gmail.com','Angel1234')\n",
    "                \"\"\")\n",
    "\n",
    "connection.commit()\n",
    "connection.close()"
   ]
  }
 ],
 "metadata": {
  "kernelspec": {
   "display_name": "Python 3",
   "language": "python",
   "name": "python3"
  },
  "language_info": {
   "codemirror_mode": {
    "name": "ipython",
    "version": 3
   },
   "file_extension": ".py",
   "mimetype": "text/x-python",
   "name": "python",
   "nbconvert_exporter": "python",
   "pygments_lexer": "ipython3",
   "version": "3.11.3"
  }
 },
 "nbformat": 4,
 "nbformat_minor": 2
}
